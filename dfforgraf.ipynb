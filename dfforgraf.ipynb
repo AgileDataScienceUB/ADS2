{
 "cells": [
  {
   "cell_type": "code",
   "execution_count": 121,
   "metadata": {
    "collapsed": true
   },
   "outputs": [],
   "source": [
    "import pandas as pd\n",
    "import geopy as gp\n",
    "import geopy.distance\n",
    "import numpy as np"
   ]
  },
  {
   "cell_type": "code",
   "execution_count": 129,
   "metadata": {
    "collapsed": true
   },
   "outputs": [],
   "source": [
    "metro1 = pd.read_csv(\"metro.csv\", sep=',')\n"
   ]
  },
  {
   "cell_type": "code",
   "execution_count": 130,
   "metadata": {
    "collapsed": true
   },
   "outputs": [],
   "source": [
    "def locsep(frame):\n",
    "    frame['Lat/Lon'] = [frame['Lat/Lon'][i].replace('/',',') for i in range(len(frame['Lat/Lon']))]\n",
    "    return frame"
   ]
  },
  {
   "cell_type": "code",
   "execution_count": 131,
   "metadata": {
    "collapsed": true
   },
   "outputs": [],
   "source": [
    "metro1 = locsep(metro1)"
   ]
  },
  {
   "cell_type": "code",
   "execution_count": 132,
   "metadata": {},
   "outputs": [
    {
     "data": {
      "text/plain": [
       "array(['L5', 'L1', 'L3', 'TRAMVIA BLAU', 'TELEFÈRIC DE MONTJUÏC',\n",
       "       'FUNICULAR DE MONTJUÏC', 'L2', 'L4', 'L9|L10', 'L11', 'L9', 'L10'], dtype=object)"
      ]
     },
     "execution_count": 132,
     "metadata": {},
     "output_type": "execute_result"
    }
   ],
   "source": [
    "L = metro1[[\"Line\",\"Name\",\"Lat/Lon\"]]\n",
    "L[\"Line\"].unique()"
   ]
  },
  {
   "cell_type": "code",
   "execution_count": 133,
   "metadata": {
    "collapsed": true
   },
   "outputs": [],
   "source": [
    "L = metro1[[\"Line\",\"Name\",\"Lat/Lon\"]]\n",
    "L1 = L[L[\"Line\"]==\"L1\"]\n",
    "L2 = L[L[\"Line\"]==\"L2\"]\n",
    "L3 = L[L[\"Line\"]==\"L3\"]\n",
    "L4 = L[L[\"Line\"]==\"L4\"]\n",
    "L5 = L[L[\"Line\"]==\"L5\"]\n",
    "L6 = L[L[\"Line\"]==\"L6\"]\n",
    "L11 = L[L[\"Line\"]==\"L11\"]\n",
    "L9 = L[L[\"Line\"]==\"L9\"]\n",
    "L10 = L[L[\"Line\"]==\"L10\"]"
   ]
  },
  {
   "cell_type": "code",
   "execution_count": 134,
   "metadata": {},
   "outputs": [],
   "source": [
    "def getorder(frame):\n",
    "    frame.reset_index(inplace=True)\n",
    "    frame.drop([\"index\"],inplace=True,axis=1)\n",
    "    o=1\n",
    "    order = np.zeros_like(frame.index)\n",
    "    for i in frame.index:\n",
    "        p1 = gp.Point(frame[\"Lat/Lon\"][i])\n",
    "        d = []\n",
    "        dst1 = 100\n",
    "        for j in frame.index:\n",
    "            p2 = gp.Point(frame[\"Lat/Lon\"][j])\n",
    "            dst = gp.distance.distance(p1,p2).km\n",
    "            if ((dst >0.0) and (dst<dst1)):\n",
    "                if order[j]==0:\n",
    "                    dst1 = dst\n",
    "                    hh = j\n",
    "\n",
    "        order[hh] = o\n",
    "        o = o+1\n",
    "    frame.insert(len(frame.columns),\"Order\",order)\n",
    "    return(frame)"
   ]
  },
  {
   "cell_type": "code",
   "execution_count": 135,
   "metadata": {},
   "outputs": [
    {
     "name": "stderr",
     "output_type": "stream",
     "text": [
      "/home/blue/anaconda3/lib/python3.6/site-packages/ipykernel_launcher.py:3: SettingWithCopyWarning: \n",
      "A value is trying to be set on a copy of a slice from a DataFrame\n",
      "\n",
      "See the caveats in the documentation: http://pandas.pydata.org/pandas-docs/stable/indexing.html#indexing-view-versus-copy\n",
      "  This is separate from the ipykernel package so we can avoid doing imports until\n"
     ]
    },
    {
     "data": {
      "text/html": [
       "<div>\n",
       "<style>\n",
       "    .dataframe thead tr:only-child th {\n",
       "        text-align: right;\n",
       "    }\n",
       "\n",
       "    .dataframe thead th {\n",
       "        text-align: left;\n",
       "    }\n",
       "\n",
       "    .dataframe tbody tr th {\n",
       "        vertical-align: top;\n",
       "    }\n",
       "</style>\n",
       "<table border=\"1\" class=\"dataframe\">\n",
       "  <thead>\n",
       "    <tr style=\"text-align: right;\">\n",
       "      <th></th>\n",
       "      <th>Line</th>\n",
       "      <th>Name</th>\n",
       "      <th>Lat/Lon</th>\n",
       "      <th>Order</th>\n",
       "    </tr>\n",
       "  </thead>\n",
       "  <tbody>\n",
       "    <tr>\n",
       "      <th>0</th>\n",
       "      <td>L11</td>\n",
       "      <td>Can Cuiàs</td>\n",
       "      <td>41.4624102882077 , 2.17305678567444</td>\n",
       "      <td>2</td>\n",
       "    </tr>\n",
       "    <tr>\n",
       "      <th>1</th>\n",
       "      <td>L11</td>\n",
       "      <td>Ciutat Meridiana</td>\n",
       "      <td>41.4608382477217 , 2.17466301080431</td>\n",
       "      <td>1</td>\n",
       "    </tr>\n",
       "    <tr>\n",
       "      <th>2</th>\n",
       "      <td>L11</td>\n",
       "      <td>Trinitat Nova</td>\n",
       "      <td>41.4492023892058 , 2.18242313470227</td>\n",
       "      <td>5</td>\n",
       "    </tr>\n",
       "    <tr>\n",
       "      <th>3</th>\n",
       "      <td>L11</td>\n",
       "      <td>Casa de L'Aigua</td>\n",
       "      <td>41.4513374981639 , 2.18495526862417</td>\n",
       "      <td>3</td>\n",
       "    </tr>\n",
       "    <tr>\n",
       "      <th>4</th>\n",
       "      <td>L11</td>\n",
       "      <td>Torre Baró | Vallbona</td>\n",
       "      <td>41.4592282423821 , 2.17994975426971</td>\n",
       "      <td>0</td>\n",
       "    </tr>\n",
       "  </tbody>\n",
       "</table>\n",
       "</div>"
      ],
      "text/plain": [
       "  Line                   Name                              Lat/Lon  Order\n",
       "0  L11              Can Cuiàs  41.4624102882077 , 2.17305678567444      2\n",
       "1  L11       Ciutat Meridiana  41.4608382477217 , 2.17466301080431      1\n",
       "2  L11          Trinitat Nova  41.4492023892058 , 2.18242313470227      5\n",
       "3  L11        Casa de L'Aigua  41.4513374981639 , 2.18495526862417      3\n",
       "4  L11  Torre Baró | Vallbona  41.4592282423821 , 2.17994975426971      0"
      ]
     },
     "execution_count": 135,
     "metadata": {},
     "output_type": "execute_result"
    }
   ],
   "source": [
    "getorder(L1)\n",
    "getorder(L2)\n",
    "getorder(L3)\n",
    "getorder(L4)\n",
    "getorder(L5)\n",
    "getorder(L6)\n",
    "getorder(L9)\n",
    "getorder(L10)\n",
    "getorder(L11)\n",
    "\n"
   ]
  }
 ],
 "metadata": {
  "kernelspec": {
   "display_name": "Python 3",
   "language": "python",
   "name": "python3"
  },
  "language_info": {
   "codemirror_mode": {
    "name": "ipython",
    "version": 3
   },
   "file_extension": ".py",
   "mimetype": "text/x-python",
   "name": "python",
   "nbconvert_exporter": "python",
   "pygments_lexer": "ipython3",
   "version": "3.6.3"
  }
 },
 "nbformat": 4,
 "nbformat_minor": 2
}
