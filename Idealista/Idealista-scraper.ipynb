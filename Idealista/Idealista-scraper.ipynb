{
 "cells": [
  {
   "cell_type": "markdown",
   "metadata": {},
   "source": [
    "# Beautiful soup\n"
   ]
  },
  {
   "cell_type": "code",
   "execution_count": 22,
   "metadata": {
    "collapsed": true
   },
   "outputs": [],
   "source": [
    "from bs4 import BeautifulSoup\n",
    "import requests\n",
    "import re\n",
    "\n",
    "def get_pages_barri(soup):\n",
    "    pags=soup.find_all('div',class_=\"pagination\")\n",
    "    extension=list(set(re.findall(r'pagina-\\d*.htm',str(pags))))\n",
    "    return extension\n",
    "\n",
    "def get_info_container(soup):\n",
    "    container=soup.find_all('div', class_='item-info-container')\n",
    "    prices=[]\n",
    "    sizes=[]\n",
    "    Ids=[]\n",
    "\n",
    "    for item in container:\n",
    "\n",
    "        item=str(item)\n",
    "        price=re.findall(r'<span class=\"item-price\">\\d+.?\\d+.?\\d+',item)[0][25:]\n",
    "        price=str.replace(price,'.','')\n",
    "        size=re.findall(r'<span class=\"item-detail\">\\d+.?\\d+ <small>m²',item)[0][26:-10]\n",
    "        size=str.replace(size,'.','')\n",
    "        Id=re.findall(r'href=\"/inmueble/\\d*',item)[0][16:]\n",
    "        Ids.append(Id)\n",
    "        sizes.append(size)\n",
    "        prices.append(price)\n",
    "    return Ids,prices,sizes\n",
    "\n",
    "def get_next_page(soup):\n",
    "    pags=soup.find_all(class_=\"icon-arrow-right-after\")\n",
    "    if len(pags) != 0:\n",
    "        return re.findall(r'pagina-\\d*.htm',str(pags))[0]\n",
    "    else:\n",
    "        return 'stop'"
   ]
  },
  {
   "cell_type": "code",
   "execution_count": 27,
   "metadata": {},
   "outputs": [
    {
     "name": "stdout",
     "output_type": "stream",
     "text": [
      "good\n"
     ]
    },
    {
     "data": {
      "text/plain": [
       "<html lang=\"es\" xml:lang=\"es\" xmlns=\"http://www.w3.org/1999/xhtml\">\n",
       "<head>\n",
       "<title>idealista.com : pisos madrid, pisos barcelona, pisos valencia. inmobiliarias venta, alquiler y obra nueva</title>\n",
       "<meta content=\"text/html; charset=utf-8\" http-equiv=\"content-Type\"/>\n",
       "<meta content=\"0\" http-equiv=\"Expires\"/>\n",
       "<meta content=\"no-cache\" name=\"Pragma\"/>\n",
       "<meta content=\"no-cache\" http-equiv=\"pragma\"/>\n",
       "<meta content=\"no-cache, mustrevalidate\" http-equiv=\"cache-control\">\n",
       "<meta content=\"NOODP\" name=\"ROBOTS\"/>\n",
       "<style type=\"text/css\">\n",
       "        html,body,div,span,h3,p,a,img,strong,ol,ul,li{border:0 none;font-family:inherit;font-size:100.01%;\n",
       "        font-style:normal;font-weight:inherit;margin:0;outline-color:invert;\n",
       "        outline-style:none;outline-width:0;padding:0;vertical-align:baseline;}\n",
       "        ol,ul{list-style-image:none;list-style-position:outside;list-style-type:none;}\n",
       "        body {position:relative;background:#fff;width:960px;color:#333;font:12px Verdana,Geneva,Arial,Helvetica,sans-serif;text-align:left;line-height:125%;padding:10px 15px;margin:0 auto;}\n",
       "        #main{margin-top:13px;}\n",
       "        .alert{background-color:#ff9;padding:20px;border:1px dotted #f00;margin:50px 10px 20px 10px;}\n",
       "        .alert strong{color:#f00;font:bold 16px Arial,Helvetica,sans-serif;line-height:20px;margin:0;}\n",
       "        .infoblock{margin:20px 30px; margin-bottom:50px;}\n",
       "        .infoblock p{margin-bottom:20px;}\n",
       "        form { margin-bottom:50px; text-align: center;}\n",
       "        #counter { font-weight: bold;  color: black; background-color: #DFFA45; width: 125px; height: 4em; line-height:4em; font-size: 30px; margin-left: auto; margin-right: auto; text-align: center;}\n",
       "        #linkter { display: none; font-weight: bold;  color: black; width: 225px; height: 4em; line-height:4em; font-size: 30px; margin-left: auto; margin-right: auto; text-align: center;}\n",
       "        #captchabox { width: 320px; margin-right: auto; margin-left: auto;}\n",
       "        form #boton { font-weight: bold; width: 188px;}\n",
       "        #notav_illustration{margin:20px 0 0 30px;}\n",
       "        #footer{clear: both;margin-top: 60px;padding: 10px 0;background: url(\"https://www.idealista.com/static/common/img/icons/bg_footer.gif\");background-repeat:repeat-x;}\n",
       "        #footer p{color:#666;margin:5px 15px 20px;}\n",
       "        #footer p strong{font-weight:bold;}\n",
       "        #copyright{color:#666;font-weight:bold;margin:10px 10px 0;}\n",
       "        * html #main {height: 1%;}\n",
       "        * html .alert {margin-top: 40px;}\n",
       "    </style>\n",
       "<script async=\"\" defer=\"\" src=\"https://www.google.com/recaptcha/api.js?hl=es\"></script>\n",
       "<script>\n",
       "     \tvar onSubmit = function(token) {\n",
       "\t       \tdocument.getElementById(\"idform\").submit();\n",
       "     \t}\n",
       "     </script>\n",
       "</meta></head>\n",
       "<body>\n",
       "<div id=\"header\">\n",
       "<div id=\"logo\"><a href=\"/\"><img src=\"https://st1.idealista.com/static/common/img/icons/logo2.gif\"/></a></div>\n",
       "</div>\n",
       "<div id=\"main\">\n",
       "<br/><br/><br/>\n",
       "<div class=\"infoblock\">\n",
       "<p>Vaya! parece que estamos recibiendo muchas peticiones tuyas en poco tiempo\n",
       "\t\t\t\t<br/>\n",
       "\t\t\t\tPara ver que realmente eres tú y no un maligno robot, te pedimos que hagas click sobre el siguiente botón:</p>\n",
       "<p>Un saludo,<br/>El equipo de idealista</p>\n",
       "</div>\n",
       "</div>\n",
       "<form action=\"?\" id=\"idform\" method=\"POST\">\n",
       "<button class=\"g-recaptcha\" data-callback=\"onSubmit\" data-sitekey=\"6LcxYxIUAAAAACro1PIwffSkCPzG49ZZawwdQHIE\">     soy un humano!     </button>\n",
       "<br/>\n",
       "</form>\n",
       "<!--\n",
       "                xtnv = document; //parent.document or top.document or document\n",
       "                xtsd = \"https://logi125\";\n",
       "                xtsite = \"468258\";\n",
       "                xtdmc = \".idealista.com\";\n",
       "                xtn2 = \"12\"; // level 2 site ID\n",
       "                xtpage = \"captcha::\"+window.location.href; //page name (with the use of :: to create chapters)\n",
       "                xtdi = \"\"; //implication degree\n",
       "                xt_multc = \"\"; //all the xi indicators (like \"&x1=...&x2=....&x3=...\")\n",
       "                xt_an = \"\"; //user ID\n",
       "                xt_ac = \"\"; //category ID\n",
       "                //do not modify below\n",
       "                if (window.xtparam!=null){window.xtparam+=\"&ac=\"xt_ac\"&an=\"+xt_an+xt_multc;}\n",
       "                else{window.xtparam=\"&ac=\"xt_ac\"&an=\"+xt_an+xt_multc;};\n",
       "                //-->\n",
       "<script src=\"https://st1.idealista.com/static/common/js/ext/xiti/xtcore.js\" type=\"text/javascript\"></script>\n",
       "<noscript>\n",
       "<img alt=\"\" height=\"1\" src=\"https://logi125.xiti.com/hit.xiti?s=468258&amp;s2=14&amp;p=captcha&amp;di=&amp;an=&amp;ac=\" width=\"1\">\n",
       "</img></noscript>\n",
       "<div id=\"footer\">\n",
       "<p><strong><!--&iquest;Te sale esta página con demasiada frecuencia?</ br>-->\n",
       "                        ¿No consigues pasar de aquí?</strong>\n",
       "<br/>Referencia: \n",
       "\t\t\tRnJpZGF5@ODMuNjAuMTM5LjE5OQ¬¬\t\t\t<br/>Atención personalizada <strong>902 55 98 58</strong><br/>Coste de una llamada provincial<br/>Lunes a Viernes de 9:00 a 21:00</p>\n",
       "<p id=\"copyright\">Copyright © 2000-<span id=\"year\"></span> idealista</p>\n",
       "</div>\n",
       "<script src=\"https://ajax.googleapis.com/ajax/libs/jquery/1/jquery.min.js\" type=\"text/javascript\"></script>\n",
       "<script type=\"text/javascript\">\n",
       "                    $(document).ready(function() {\n",
       "                        setTimeout(function() {\n",
       "                            //$('#counter').fadeOut('fast');\n",
       "                            $('#counter').slideToggle();\n",
       "                            $('#linkter').fadeIn('fast');\n",
       "                        }, 100000); // <-- time in milliseconds\n",
       "                    });\n",
       "                </script>\n",
       "<script>\n",
       "                         document.getElementById(\"year\").innerHTML = new Date().getFullYear();\n",
       "                </script>\n",
       "</body>\n",
       "</html>"
      ]
     },
     "execution_count": 27,
     "metadata": {},
     "output_type": "execute_result"
    }
   ],
   "source": [
    "page = requests.get(\"https://www.idealista.com/alquiler-viviendas/barcelona/sant-andreu/baro-de-viver/\")\n",
    "print ('good' if page.status_code==200 else 'bad') #200 is good\n",
    "soup = BeautifulSoup(page.content, 'html.parser')\n",
    "soup"
   ]
  },
  {
   "cell_type": "code",
   "execution_count": 36,
   "metadata": {},
   "outputs": [
    {
     "data": {
      "text/plain": [
       "'pagina-2.htm'"
      ]
     },
     "execution_count": 36,
     "metadata": {},
     "output_type": "execute_result"
    }
   ],
   "source": [
    "pags=soup.find_all(class_=\"icon-arrow-right-after\")\n",
    "len(pags)\n",
    "re.findall(r'pagina-\\d*.htm',str(pags))[0]\n"
   ]
  },
  {
   "cell_type": "code",
   "execution_count": 31,
   "metadata": {
    "scrolled": true
   },
   "outputs": [
    {
     "name": "stdout",
     "output_type": "stream",
     "text": [
      "1\n",
      "pagina-2.htm\n",
      "pagina-3.htm\n",
      "pagina-4.htm\n",
      "pagina-5.htm\n",
      "pagina-6.htm\n",
      "pagina-7.htm\n",
      "pagina-8.htm\n",
      "pagina-9.htm\n",
      "pagina-10.htm\n",
      "pagina-11.htm\n",
      "pagina-12.htm\n",
      "pagina-13.htm\n",
      "pagina-14.htm\n",
      "pagina-15.htm\n",
      "pagina-16.htm\n",
      "pagina-17.htm\n",
      "pagina-18.htm\n",
      "pagina-19.htm\n",
      "pagina-20.htm\n",
      "pagina-21.htm\n",
      "pagina-22.htm\n",
      "pagina-23.htm\n",
      "pagina-24.htm\n",
      "pagina-25.htm\n",
      "pagina-26.htm\n",
      "pagina-27.htm\n",
      "pagina-28.htm\n",
      "1\n",
      "pagina-2.htm\n",
      "pagina-3.htm\n",
      "pagina-4.htm\n",
      "pagina-5.htm\n",
      "pagina-6.htm\n",
      "pagina-7.htm\n",
      "pagina-8.htm\n",
      "pagina-9.htm\n",
      "pagina-10.htm\n",
      "pagina-11.htm\n",
      "pagina-12.htm\n",
      "pagina-13.htm\n",
      "pagina-14.htm\n",
      "pagina-15.htm\n",
      "pagina-16.htm\n",
      "1\n",
      "pagina-2.htm\n",
      "pagina-3.htm\n",
      "pagina-4.htm\n",
      "pagina-5.htm\n",
      "1\n",
      "pagina-2.htm\n",
      "pagina-3.htm\n",
      "pagina-4.htm\n",
      "pagina-5.htm\n",
      "1\n",
      "pagina-2.htm\n",
      "pagina-3.htm\n",
      "pagina-4.htm\n",
      "pagina-5.htm\n",
      "pagina-6.htm\n",
      "1\n",
      "pagina-2.htm\n",
      "pagina-3.htm\n",
      "pagina-4.htm\n",
      "pagina-5.htm\n",
      "pagina-6.htm\n",
      "pagina-7.htm\n",
      "pagina-8.htm\n",
      "pagina-9.htm\n",
      "pagina-10.htm\n",
      "pagina-11.htm\n",
      "pagina-12.htm\n",
      "pagina-13.htm\n",
      "pagina-14.htm\n",
      "pagina-15.htm\n",
      "pagina-16.htm\n"
     ]
    }
   ],
   "source": [
    "import pandas as pd\n",
    "import numpy as np\n",
    "file=pd.read_csv('url-neighborhood.csv')\n",
    "# tipus='venta'\n",
    "tipus='alquiler'\n",
    "file_means=open('./output-'+tipus+'/means.dat','w')\n",
    "file_means.write('district,neightborhood,mean-price(€),mean-size(m^2),mean-price-size(€/m^2)\\n')\n",
    "for distric,nei,path in zip(file['District'],file['Neighborhood'],file['Idealista-path']):\n",
    "\n",
    "    print(1)    \n",
    "    page = requests.get(\"https://www.idealista.com/\"+tipus+\"-viviendas/barcelona/\"+str(path))\n",
    "    soup = BeautifulSoup(page.content, 'html.parser')\n",
    "\n",
    "    next_pages=get_pages_barri(soup)\n",
    "    ID,Price,Size=get_info_container(soup)\n",
    "    ID=np.array(ID,dtype=int)\n",
    "    Price=np.array(Price,dtype=int)\n",
    "    Size=np.array(Size,dtype=int)\n",
    "    next_page=get_next_page(soup)\n",
    "    while next_page !='stop':\n",
    "#     for next_page in next_pages:\n",
    "        print(next_page)\n",
    "        page = requests.get(\"https://www.idealista.com/\"+tipus+\"-viviendas/barcelona/\"+str(path)+str(next_page))\n",
    "        soup = BeautifulSoup(page.content, 'html.parser')\n",
    "        next_pages=get_pages_barri(soup)\n",
    "        ID_,Price_,Size_=get_info_container(soup)\n",
    "\n",
    "        ID=np.r_[ID,np.array(ID_,dtype=int)]\n",
    "        Price=np.r_[Price,np.array(Price_,dtype=int)]\n",
    "        Size=np.r_[Size,np.array(Size_,dtype=int)]\n",
    "        next_page=get_next_page(soup)\n",
    "        \n",
    "    data=np.c_[ID.T,Price.T,Size.T]\n",
    "    data=pd.DataFrame(data,columns=['ID','PRICE(€)','SIZE(m^2)'])\n",
    "    pd.DataFrame.to_csv(data,'./output-'+tipus+'/zone'+str(distric)+'-'+str(nei)+'.csv',index=False)\n",
    "    file_means.write('{},{},{},{},{}\\n'.format(distric,nei,np.mean(Price),np.mean(Size),np.mean(Price/Size)))\n",
    "file_means.close()   "
   ]
  },
  {
   "cell_type": "code",
   "execution_count": 28,
   "metadata": {},
   "outputs": [],
   "source": [
    "file_means.close()"
   ]
  },
  {
   "cell_type": "code",
   "execution_count": 2,
   "metadata": {
    "collapsed": true
   },
   "outputs": [],
   "source": [
    "url_alquiler='https://www.idealista.com/alquiler-viviendas/barcelona/sants-montjuic/sants-badal/'\n",
    "page=requests.get(url_alquiler)"
   ]
  },
  {
   "cell_type": "code",
   "execution_count": 50,
   "metadata": {},
   "outputs": [
    {
     "name": "stdout",
     "output_type": "stream",
     "text": [
      "good\n",
      "['pagina-3.htm', 'pagina-2.htm']\n",
      "(['38778457', '38476642', '38777759', '38559458', '38776418', '38775095', '38773320', '38771885', '38469533', '38712990', '32897413', '37931423', '38153797', '33085324', '38108980', '38744112', '38534537', '38617675', '38556456', '38151087', '38153449', '38677705', '38676813', '25483123', '38171320', '35283802', '38664723', '38267822', '38151897', '35283855'], ['1100', '1600', '765', '900', '1250', '1300', '1000', '1000', '875', '1000', '1375', '900', '1100', '825', '1300', '1100', '900', '790', '875', '1100', '1100', '1200', '1800', '1100', '1000', '1200', '1350', '1440', '1000', '1200'], ['66', '97', '45', '45', '71', '75', '70', '70', '85', '67', '100', '65', '65', '72', '50', '82', '70', '68', '70', '90', '65', '120', '98', '80', '90', '60', '119', '95', '95', '50'])\n"
     ]
    }
   ],
   "source": [
    "print ('good' if page.status_code==200 else 'bad') #200 is good\n",
    "soup = BeautifulSoup(page.content, 'html.parser')\n",
    "print(get_pages_barri(soup))\n",
    "print(get_info_container(soup))"
   ]
  },
  {
   "cell_type": "code",
   "execution_count": 56,
   "metadata": {
    "collapsed": true
   },
   "outputs": [],
   "source": [
    "ide,preu,tamany=get_info_container(soup)"
   ]
  },
  {
   "cell_type": "code",
   "execution_count": 72,
   "metadata": {
    "collapsed": true,
    "scrolled": true
   },
   "outputs": [],
   "source": [
    "import numpy as np\n",
    "import pandas as pd\n",
    "ide=np.array(ide,dtype=int)\n",
    "preu=np.array(preu,dtype=int)\n",
    "tamany=np.array(tamany,dtype=int)\n",
    "data=np.c_[ide.T,preu.T,tamany.T]\n",
    "data=pd.DataFrame(data,columns=['ID','PRICE(€)','SIZE(m^2)'])\n",
    "pd.DataFrame.to_csv(data,'prova.csv',index=False)"
   ]
  },
  {
   "cell_type": "code",
   "execution_count": null,
   "metadata": {
    "collapsed": true
   },
   "outputs": [],
   "source": []
  }
 ],
 "metadata": {
  "kernelspec": {
   "display_name": "Python [default]",
   "language": "python",
   "name": "python3"
  },
  "language_info": {
   "codemirror_mode": {
    "name": "ipython",
    "version": 3
   },
   "file_extension": ".py",
   "mimetype": "text/x-python",
   "name": "python",
   "nbconvert_exporter": "python",
   "pygments_lexer": "ipython3",
   "version": "3.5.3"
  }
 },
 "nbformat": 4,
 "nbformat_minor": 2
}
